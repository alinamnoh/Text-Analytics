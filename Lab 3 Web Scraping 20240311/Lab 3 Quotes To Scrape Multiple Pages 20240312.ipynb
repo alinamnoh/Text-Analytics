{
 "cells": [
  {
   "cell_type": "code",
   "execution_count": 1,
   "id": "0fd144fe",
   "metadata": {},
   "outputs": [],
   "source": [
    "import requests"
   ]
  },
  {
   "cell_type": "code",
   "execution_count": 2,
   "id": "dabe8a78",
   "metadata": {},
   "outputs": [],
   "source": [
    "from bs4 import BeautifulSoup"
   ]
  },
  {
   "cell_type": "code",
   "execution_count": 3,
   "id": "51470810",
   "metadata": {},
   "outputs": [],
   "source": [
    "import csv"
   ]
  },
  {
   "cell_type": "code",
   "execution_count": 4,
   "id": "c6ca18a6",
   "metadata": {},
   "outputs": [],
   "source": [
    "#Function to scrape quotes from a page\n",
    "def scrape_page(soup, quotes):\n",
    "    for quote in soup.find_all('div', class_='quote'):\n",
    "        text = quote.find('span', class_='text').text\n",
    "        author = quote.find('small', class_='author').text\n",
    "        tags = ', '.join(tag.text for tag in quote.find_all('a', class_='tag'))\n",
    "        quotes.append({'TEXT': text, 'AUTHOR': author, 'TAGS': tags})"
   ]
  },
  {
   "cell_type": "code",
   "execution_count": 5,
   "id": "cd5795da",
   "metadata": {},
   "outputs": [],
   "source": [
    "#Base URL\n",
    "base_url = 'https://quotes.toscrape.com'\n",
    "\n",
    "#headers are optional"
   ]
  },
  {
   "cell_type": "code",
   "execution_count": 6,
   "id": "87f0c9d3",
   "metadata": {},
   "outputs": [],
   "source": [
    "#Create a list to store quotes\n",
    "quotes = []"
   ]
  },
  {
   "cell_type": "code",
   "execution_count": null,
   "id": "b7d1ff2b",
   "metadata": {},
   "outputs": [],
   "source": [
    "#Function to scrape quotes from multiple pages\n",
    "def scrape_all_pages(url):\n",
    "    while url:\n",
    "        response = requests.get(url)\n",
    "        soup = BeautifulSoup(response.text, 'html.parser')\n",
    "        scrape_page(soup, quotes)\n",
    "        next_page = soup.find('li', class_='next')\n",
    "        url = base_url + next_page.find('a')['href'] if next_page else None\n",
    "        \n",
    "#scrape quotes from all pages\n",
    "scrape_all_pages(base_url)"
   ]
  },
  {
   "cell_type": "code",
   "execution_count": null,
   "id": "f44ab2b7",
   "metadata": {},
   "outputs": [],
   "source": [
    "with open('quotes_multipages.csv', 'w', newline = '', encoding = 'utf-8') as csvfile:\n",
    "    writer = csv.DictWriter(csvfile, fieldnames = ['TEXT', 'AUTHOR', 'TAGS'])\n",
    "    writer.writeheader()\n",
    "    writer.writerows(quotes)\n",
    "    \n",
    "print(\"Saved into quotes_multipages.csv\")"
   ]
  },
  {
   "cell_type": "code",
   "execution_count": null,
   "id": "8c27afac",
   "metadata": {},
   "outputs": [],
   "source": []
  }
 ],
 "metadata": {
  "kernelspec": {
   "display_name": "Python 3 (ipykernel)",
   "language": "python",
   "name": "python3"
  },
  "language_info": {
   "codemirror_mode": {
    "name": "ipython",
    "version": 3
   },
   "file_extension": ".py",
   "mimetype": "text/x-python",
   "name": "python",
   "nbconvert_exporter": "python",
   "pygments_lexer": "ipython3",
   "version": "3.11.5"
  }
 },
 "nbformat": 4,
 "nbformat_minor": 5
}
