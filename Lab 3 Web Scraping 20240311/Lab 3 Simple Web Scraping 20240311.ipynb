{
 "cells": [
  {
   "cell_type": "code",
   "execution_count": 1,
   "id": "34dd7a5d",
   "metadata": {},
   "outputs": [],
   "source": [
    "#import required libraries\n",
    "import requests"
   ]
  },
  {
   "cell_type": "code",
   "execution_count": 3,
   "id": "9c2b9b8d",
   "metadata": {},
   "outputs": [
    {
     "data": {
      "text/plain": [
       "<Response [200]>"
      ]
     },
     "execution_count": 3,
     "metadata": {},
     "output_type": "execute_result"
    }
   ],
   "source": [
    "#request to dw the URL scrape\n",
    "page = requests.get(\"https://dataquestio.github.io/web-scraping-pages/simple.html\")\n",
    "page"
   ]
  },
  {
   "cell_type": "markdown",
   "id": "cf655b6f",
   "metadata": {},
   "source": [
    "means it is available to be downloaded and scraped"
   ]
  },
  {
   "cell_type": "code",
   "execution_count": 4,
   "id": "42686bac",
   "metadata": {},
   "outputs": [],
   "source": [
    "#parse and transform to dw data\n",
    "from bs4 import BeautifulSoup\n",
    "soup = BeautifulSoup(page.content, 'html.parser')"
   ]
  },
  {
   "cell_type": "code",
   "execution_count": 5,
   "id": "f089e229",
   "metadata": {},
   "outputs": [
    {
     "data": {
      "text/plain": [
       "<!DOCTYPE html>\n",
       "\n",
       "<html>\n",
       "<head>\n",
       "<title>A simple example page</title>\n",
       "</head>\n",
       "<body>\n",
       "<p>Here is some simple content for this page.</p>\n",
       "</body>\n",
       "</html>"
      ]
     },
     "execution_count": 5,
     "metadata": {},
     "output_type": "execute_result"
    }
   ],
   "source": [
    "soup "
   ]
  },
  {
   "cell_type": "code",
   "execution_count": 6,
   "id": "3965b8e8",
   "metadata": {},
   "outputs": [
    {
     "data": {
      "text/plain": [
       "'Here is some simple content for this page.'"
      ]
     },
     "execution_count": 6,
     "metadata": {},
     "output_type": "execute_result"
    }
   ],
   "source": [
    "content = soup.find('p').get_text()\n",
    "content\n",
    "\n",
    "#to find the particular tag\n",
    "#because there's only ONE <p>"
   ]
  },
  {
   "cell_type": "code",
   "execution_count": 7,
   "id": "55d7b2c2",
   "metadata": {},
   "outputs": [
    {
     "name": "stdout",
     "output_type": "stream",
     "text": [
      "Extracted Content:  Here is some simple content for this page.\n"
     ]
    }
   ],
   "source": [
    "print('Extracted Content: ', content)"
   ]
  },
  {
   "cell_type": "code",
   "execution_count": 8,
   "id": "e6d4c053",
   "metadata": {},
   "outputs": [],
   "source": [
    "#write extracted data into text file\n",
    "#kalau ada multiple lines, need to use 'for' loop\n",
    "with open(\"extracted_data.txt\", \"w\") as file:\n",
    "    file.write(content)"
   ]
  },
  {
   "cell_type": "code",
   "execution_count": null,
   "id": "fef8122a",
   "metadata": {},
   "outputs": [],
   "source": []
  }
 ],
 "metadata": {
  "kernelspec": {
   "display_name": "Python 3 (ipykernel)",
   "language": "python",
   "name": "python3"
  },
  "language_info": {
   "codemirror_mode": {
    "name": "ipython",
    "version": 3
   },
   "file_extension": ".py",
   "mimetype": "text/x-python",
   "name": "python",
   "nbconvert_exporter": "python",
   "pygments_lexer": "ipython3",
   "version": "3.11.5"
  }
 },
 "nbformat": 4,
 "nbformat_minor": 5
}
