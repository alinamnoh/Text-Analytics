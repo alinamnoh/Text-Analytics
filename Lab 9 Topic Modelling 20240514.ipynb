{
 "cells": [
  {
   "cell_type": "markdown",
   "id": "d985799a",
   "metadata": {},
   "source": [
    "# EXAMPLE 1"
   ]
  },
  {
   "cell_type": "markdown",
   "id": "44c7696b",
   "metadata": {},
   "source": [
    "## 1. import libraries"
   ]
  },
  {
   "cell_type": "code",
   "execution_count": 1,
   "id": "69a6deb0",
   "metadata": {},
   "outputs": [],
   "source": [
    "import nltk\n",
    "from nltk.corpus import stopwords\n",
    "from nltk.tokenize import word_tokenize\n",
    "from nltk.stem import WordNetLemmatizer"
   ]
  },
  {
   "cell_type": "code",
   "execution_count": 2,
   "id": "bc667b4d",
   "metadata": {},
   "outputs": [],
   "source": [
    "# libraries for topic modelling\n",
    "from gensim import corpora\n",
    "from gensim.models import LdaModel"
   ]
  },
  {
   "cell_type": "code",
   "execution_count": 3,
   "id": "c4bd70e6",
   "metadata": {},
   "outputs": [
    {
     "name": "stderr",
     "output_type": "stream",
     "text": [
      "[nltk_data] Downloading package stopwords to\n",
      "[nltk_data]     C:\\Users\\cyber\\AppData\\Roaming\\nltk_data...\n",
      "[nltk_data]   Package stopwords is already up-to-date!\n",
      "[nltk_data] Downloading package punkt to\n",
      "[nltk_data]     C:\\Users\\cyber\\AppData\\Roaming\\nltk_data...\n",
      "[nltk_data]   Package punkt is already up-to-date!\n",
      "[nltk_data] Downloading package wordnet to\n",
      "[nltk_data]     C:\\Users\\cyber\\AppData\\Roaming\\nltk_data...\n",
      "[nltk_data]   Package wordnet is already up-to-date!\n"
     ]
    },
    {
     "data": {
      "text/plain": [
       "True"
      ]
     },
     "execution_count": 3,
     "metadata": {},
     "output_type": "execute_result"
    }
   ],
   "source": [
    "nltk.download('stopwords')\n",
    "nltk.download('punkt')\n",
    "nltk.download('wordnet')"
   ]
  },
  {
   "cell_type": "markdown",
   "id": "60e00575",
   "metadata": {},
   "source": [
    "## 2. load the data"
   ]
  },
  {
   "cell_type": "code",
   "execution_count": 4,
   "id": "9165aa3c",
   "metadata": {},
   "outputs": [],
   "source": [
    "document = [\"Rafael Nadal Joins Roger Federer in Missing U.S. Open\",\n",
    "           \"Rafael Nadal Is Out of the Australian Open\",\n",
    "           \"Biden Announces Virus Measures\",\n",
    "           \"Biden's Virus Plans Meet Reality\",\n",
    "           \"Where Biden's Virus Plan Stands\"]"
   ]
  },
  {
   "cell_type": "markdown",
   "id": "447dc13f",
   "metadata": {},
   "source": [
    "## 3. data preprocessing"
   ]
  },
  {
   "cell_type": "code",
   "execution_count": 5,
   "id": "e5cd6e1b",
   "metadata": {},
   "outputs": [],
   "source": [
    "stop_words = set(stopwords.words('english'))\n",
    "lemmatizer = WordNetLemmatizer()"
   ]
  },
  {
   "cell_type": "code",
   "execution_count": 7,
   "id": "dc9a1630",
   "metadata": {},
   "outputs": [],
   "source": [
    "def preprocess_text(text):\n",
    "    tokens = word_tokenize(text.lower())\n",
    "    tokens = [token for token in tokens if token.isalnum()]\n",
    "    tokens = [token for token in tokens if token not in stop_words]\n",
    "    tokens = [lemmatizer.lemmatize(token) for token in tokens]\n",
    "    return tokens"
   ]
  },
  {
   "cell_type": "code",
   "execution_count": 9,
   "id": "b37ebf7a",
   "metadata": {},
   "outputs": [
    {
     "data": {
      "text/plain": [
       "[['rafael', 'nadal', 'join', 'roger', 'federer', 'missing', 'open'],\n",
       " ['rafael', 'nadal', 'australian', 'open'],\n",
       " ['biden', 'announces', 'virus', 'measure'],\n",
       " ['biden', 'virus', 'plan', 'meet', 'reality'],\n",
       " ['biden', 'virus', 'plan', 'stand']]"
      ]
     },
     "execution_count": 9,
     "metadata": {},
     "output_type": "execute_result"
    }
   ],
   "source": [
    "preprocessed_documents = [preprocess_text(doc) for doc in document]\n",
    "preprocessed_documents"
   ]
  },
  {
   "cell_type": "markdown",
   "id": "7d30acd0",
   "metadata": {},
   "source": [
    "## 4. create a document-term matrix"
   ]
  },
  {
   "cell_type": "code",
   "execution_count": 10,
   "id": "f93050b9",
   "metadata": {},
   "outputs": [],
   "source": [
    "# create a Gensim dictionary object from the preprocessed documents\n",
    "dictionary = corpora.Dictionary(preprocessed_documents)\n",
    "\n",
    "# convert each preprocessed documents into BoW representation using the dictionary\n",
    "corpus = [dictionary.doc2bow(doc) for doc in preprocessed_documents]"
   ]
  },
  {
   "cell_type": "markdown",
   "id": "dab1b163",
   "metadata": {},
   "source": [
    "## 5. run the LDA"
   ]
  },
  {
   "cell_type": "code",
   "execution_count": 11,
   "id": "b7b21078",
   "metadata": {},
   "outputs": [],
   "source": [
    "lda_model = LdaModel(corpus, num_topics = 2, id2word = dictionary, passes = 15)"
   ]
  },
  {
   "cell_type": "markdown",
   "id": "b261a288",
   "metadata": {},
   "source": [
    "## 6. interpret results"
   ]
  },
  {
   "cell_type": "code",
   "execution_count": 12,
   "id": "9d994ea7",
   "metadata": {},
   "outputs": [],
   "source": [
    "article_labels = []\n",
    "\n",
    "for i, doc in enumerate(preprocessed_documents):\n",
    "    bow = dictionary.doc2bow(doc) # for each document, convert to box representation\n",
    "    topics = lda_model.get_document_topics(bow) # get lists of topic probabilities\n",
    "    dominant_topic = max(topics, key=lambda x: x[1])[0] # determine topic with highest probability\n",
    "    article_labels.append(dominant_topic) # append to the list"
   ]
  },
  {
   "cell_type": "code",
   "execution_count": 14,
   "id": "1b8d627e",
   "metadata": {},
   "outputs": [],
   "source": [
    "import pandas as pd"
   ]
  },
  {
   "cell_type": "code",
   "execution_count": 16,
   "id": "be81792f",
   "metadata": {},
   "outputs": [
    {
     "name": "stdout",
     "output_type": "stream",
     "text": [
      "Table with Articles and Topic: \n",
      "                                             Article  Topic\n",
      "0  Rafael Nadal Joins Roger Federer in Missing U....      1\n",
      "1         Rafael Nadal Is Out of the Australian Open      1\n",
      "2                     Biden Announces Virus Measures      0\n",
      "3                   Biden's Virus Plans Meet Reality      0\n",
      "4                    Where Biden's Virus Plan Stands      0\n",
      "\n"
     ]
    }
   ],
   "source": [
    "df = pd.DataFrame({\"Article\": document, \"Topic\": article_labels})\n",
    "\n",
    "print(\"Table with Articles and Topic: \")\n",
    "print(df)\n",
    "print()"
   ]
  },
  {
   "cell_type": "code",
   "execution_count": 19,
   "id": "05c7324f",
   "metadata": {},
   "outputs": [
    {
     "name": "stdout",
     "output_type": "stream",
     "text": [
      "TOP TERMS FOR EACH TOPIC:\n",
      "\n",
      "Topic 0:\n",
      "- \"biden\" (weight: 0.167)\n",
      "- \"virus\" (weight: 0.167)\n",
      "- \"plan\" (weight: 0.119)\n",
      "- \"reality\" (weight: 0.072)\n",
      "- \"meet\" (weight: 0.072)\n",
      "- \"stand\" (weight: 0.071)\n",
      "- \"measure\" (weight: 0.070)\n",
      "- \"announces\" (weight: 0.070)\n",
      "- \"australian\" (weight: 0.024)\n",
      "- \"rafael\" (weight: 0.024)\n",
      "\n",
      "Topic 1:\n",
      "- \"open\" (weight: 0.131)\n",
      "- \"nadal\" (weight: 0.131)\n",
      "- \"rafael\" (weight: 0.131)\n",
      "- \"join\" (weight: 0.078)\n",
      "- \"missing\" (weight: 0.078)\n",
      "- \"federer\" (weight: 0.078)\n",
      "- \"roger\" (weight: 0.078)\n",
      "- \"australian\" (weight: 0.078)\n",
      "- \"announces\" (weight: 0.028)\n",
      "- \"measure\" (weight: 0.028)\n",
      "\n"
     ]
    }
   ],
   "source": [
    "print(\"TOP TERMS FOR EACH TOPIC:\")\n",
    "print()\n",
    "\n",
    "for idx, topic in lda_model.print_topics():\n",
    "    print(f\"Topic {idx}:\")\n",
    "    terms = [term.strip() for term in topic.split(\"+\")]\n",
    "    for term in terms:\n",
    "        weight, word = term.split(\"*\")\n",
    "        print(f\"- {word.strip()} (weight: {weight.strip()})\")\n",
    "    print()"
   ]
  },
  {
   "cell_type": "markdown",
   "id": "f895f7a3",
   "metadata": {},
   "source": [
    "# EXAMPLE 2"
   ]
  },
  {
   "cell_type": "markdown",
   "id": "0df5809d",
   "metadata": {},
   "source": [
    "## 1. import libraries"
   ]
  },
  {
   "cell_type": "code",
   "execution_count": 20,
   "id": "d6049e19",
   "metadata": {},
   "outputs": [
    {
     "name": "stderr",
     "output_type": "stream",
     "text": [
      "[nltk_data] Downloading package stopwords to\n",
      "[nltk_data]     C:\\Users\\cyber\\AppData\\Roaming\\nltk_data...\n",
      "[nltk_data]   Package stopwords is already up-to-date!\n",
      "[nltk_data] Downloading package punkt to\n",
      "[nltk_data]     C:\\Users\\cyber\\AppData\\Roaming\\nltk_data...\n",
      "[nltk_data]   Package punkt is already up-to-date!\n",
      "[nltk_data] Downloading package wordnet to\n",
      "[nltk_data]     C:\\Users\\cyber\\AppData\\Roaming\\nltk_data...\n",
      "[nltk_data]   Package wordnet is already up-to-date!\n"
     ]
    },
    {
     "data": {
      "text/plain": [
       "True"
      ]
     },
     "execution_count": 20,
     "metadata": {},
     "output_type": "execute_result"
    }
   ],
   "source": [
    "# For text preprocessing\n",
    "import nltk\n",
    "from nltk.corpus import stopwords\n",
    "from nltk.tokenize import word_tokenize\n",
    "from nltk.stem import WordNetLemmatizer\n",
    "\n",
    "# For topic modeling\n",
    "from gensim import corpora\n",
    "from gensim.models import LdaModel\n",
    "import pandas as pd\n",
    "\n",
    "# Download NLTK Resources\n",
    "nltk.download('stopwords')\n",
    "nltk.download('punkt')\n",
    "nltk.download('wordnet')"
   ]
  },
  {
   "cell_type": "markdown",
   "id": "0c512585",
   "metadata": {},
   "source": [
    "## 2. load the data"
   ]
  },
  {
   "cell_type": "code",
   "execution_count": 21,
   "id": "30067dad",
   "metadata": {},
   "outputs": [],
   "source": [
    "df = pd.read_csv('npr.csv')\n",
    "documents = df['Article'].tolist()"
   ]
  },
  {
   "cell_type": "markdown",
   "id": "7033bc30",
   "metadata": {},
   "source": [
    "## 3. data preprocessing"
   ]
  },
  {
   "cell_type": "code",
   "execution_count": 22,
   "id": "08c4b7d3",
   "metadata": {},
   "outputs": [],
   "source": [
    "top_words = set(stopwords.words('english')) # Create a set of English stopwords\n",
    "lemmatizer = WordNetLemmatizer() # Initialize a WordNet lemmatizer\n",
    "\n",
    "def preprocess_text(text):\n",
    "    tokens = word_tokenize(text.lower()) # Tokenize the text into words and convert to lowercase\n",
    "    tokens = [token for token in tokens if token.isalnum()] # Filter out non-alphanumeric tokens\n",
    "    tokens = [token for token in tokens if token not in stop_words] # Remove stopwords from the tokens\n",
    "    tokens = [lemmatizer.lemmatize(token) for token in tokens] # Lemmatize each token\n",
    "    return tokens # Return the preprocessed tokens"
   ]
  },
  {
   "cell_type": "code",
   "execution_count": 23,
   "id": "85946598",
   "metadata": {},
   "outputs": [
    {
     "name": "stdout",
     "output_type": "stream",
     "text": [
      "['washington', '2016', 'even', 'policy', 'bipartisan', 'politics', 'sense', 'year', 'show', 'little', 'sign', 'ending', 'president', 'obama', 'moved', 'sanction', 'russia', 'alleged', 'interference', 'election', 'concluded', 'republican', 'long', 'called', 'similar', 'severe', 'measure', 'could', 'scarcely', 'bring', 'approve', 'house', 'speaker', 'paul', 'ryan', 'called', 'obama', 'measure', 'appropriate', 'also', 'overdue', 'prime', 'example', 'administration', 'ineffective', 'foreign', 'policy', 'left', 'america', 'weaker', 'eye', 'gop', 'leader', 'sounded', 'much', 'theme', 'urging', 'president', 'obama', 'year', 'take', 'strong', 'action', 'deter', 'russia', 'worldwide', 'aggression', 'including', 'operation', 'wrote', 'devin', 'nunes', 'chairman', 'house', 'intelligence', 'committee', 'week', 'left', 'office', 'president', 'suddenly', 'decided', 'stronger', 'measure', 'indeed', 'appearing', 'cnn', 'frequent', 'obama', 'critic', 'trent', 'frank', 'called', 'much', 'tougher', 'action', 'said', 'three', 'time', 'obama', 'finally', 'found', 'meanwhile', 'fox', 'news', 'various', 'spokesman', 'trump', 'said', 'obama', 'real', 'target', 'russian', 'man', 'poised', 'take', 'white', 'house', 'le', 'three', 'week', 'spoke', 'obama', 'trying', 'tie', 'trump', 'hand', 'box', 'meaning', 'would', 'forced', 'either', 'keep', 'sanction', 'odds', 'republican', 'want', 'tougher', 'still', 'moscow', 'throughout', '2016', 'trump', 'repeatedly', 'called', 'sanction', 'closer', 'tie', 'russia', 'including', 'cooperation', 'fight', 'isi', 'russia', 'battled', 'isi', 'syria', 'behalf', 'country', 'embattled', 'dictator', 'bashar', 'assad', 'bombing', 'besieged', 'city', 'aleppo', 'fell', 'assad', 'force', 'week', 'campaign', 'trump', 'even', 'urged', 'russia', 'find', 'missing', 'email', 'private', 'server', 'opponent', 'hillary', 'clinton', 'exchanged', 'public', 'encomium', 'russian', 'president', 'vladimir', 'putin', 'several', 'occasion', 'added', 'doubt', 'current', 'level', 'support', 'nato', 'putin', 'longtime', 'nemesis', 'also', 'suggestion', 'trump', 'extensive', 'business', 'dealing', 'various', 'russian', 'reason', 'refuse', 'release', 'tax', 'return', 'issue', 'disquieting', 'republican', 'many', 'month', 'sen', 'john', 'mccain', 'lindsay', 'graham', 'prominent', 'senior', 'member', 'armed', 'service', 'committee', 'accepted', 'assessment', '17', 'intelligence', 'agency', 'regarding', 'role', 'russia', 'hacking', 'various', 'democratic', 'committee', 'last', 'year', 'includes', 'fbi', 'cia', 'consensus', 'russian', 'goal', 'discredit', 'american', 'democracy', 'defeat', 'clinton', 'elect', 'trump', 'say', 'great', 'majority', 'senate', 'colleague', 'agree', 'mccain', 'slated', 'armed', 'service', 'hearing', 'cyberthreats', 'politicizing', 'russian', 'action', 'idea', 'helped', 'trump', 'win', 'also', 'made', 'issue', 'difficult', 'republican', 'leader', 'allowed', 'trump', 'supporter', 'push', 'back', 'intelligence', 'agency', 'say', 'entire', 'issue', 'designed', 'undermine', 'trump', 'legitimacy', 'senate', 'majority', 'leader', 'mitch', 'mcconnell', 'far', 'resisted', 'call', 'select', 'committee', 'look', 'russian', 'interference', '2016', 'campaign', 'said', 'enough', 'richard', 'burr', 'look', 'chairman', 'senate', 'intelligence', 'committee', 'typically', 'republican', 'leader', 'spokesman', 'say', 'evidence', 'actual', 'voting', 'tallying', '8', 'compromised', 'true', 'also', 'red', 'herring', 'interference', 'function', 'alleged', 'focus', 'intelligence', 'agency', 'concern', 'part', 'trump', 'shown', 'little', 'interest', 'delving', 'happened', 'cast', 'doubt', 'intelligence', 'report', 'date', 'suggested', 'one', 'really', 'know', 'also', 'suggested', 'computer', 'make', 'difficult', 'know', 'using', 'week', 'trump', 'said', 'time', 'get', 'life', 'important', 'however', 'week', 'end', 'agree', 'intelligence', 'briefing', 'subject', 'next', 'week', 'wanted', 'daily', 'intelligence', 'briefing', 'available', 'recent', 'week', 'preferring', 'given', 'men', 'chosen', 'vice', 'president', 'mike', 'penny', 'national', 'security', 'adviser', 'mike', 'flynn', 'trump', 'taking', 'occasionally', 'irony', 'controversy', 'arising', 'eleventh', 'hour', 'obama', 'presidency', 'scarcely', 'overstated', 'defines', 'dilemma', 'facing', 'outgoing', 'president', 'incoming', 'party', 'control', 'obama', 'appears', 'reluctant', 'retaliate', 'russian', 'hacking', 'election', 'fear', 'seeming', 'interfere', 'election', 'republican', 'meanwhile', 'year', 'called', 'greater', 'confrontation', 'russian', 'obama', 'usually', 'resisting', 'obama', 'join', 'nato', 'punishing', 'russian', 'economic', 'sanction', 'annexation', 'crimea', 'sanction', 'may', 'painful', 'coming', 'alongside', 'falling', 'price', 'oil', 'commodity', 'keep', 'russian', 'economy', 'afloat', 'occasion', 'despite', 'russian', 'provocation', 'surrogate', 'syria', 'elsewhere', 'obama', 'make', 'overt', 'move', 'force', 'russia', 'hand', 'includes', 'occasion', 'russia', 'believed', 'hacking', 'critical', 'computer', 'system', 'neighboring', 'ukraine', 'estonia', 'poland', 'week', 'following', 'chorus', 'confirmation', 'intelligence', 'community', 'regarding', 'russian', 'role', 'computer', 'hacking', 'political', 'campaign', 'obama', 'acted', 'imposed', 'set', 'mostly', 'diplomatic', 'action', 'sanctioning', 'russian', 'official', 'closing', 'two', 'diplomatic', 'compound', 'expelling', '35', 'russian', 'diplomat', 'may', 'damaging', 'measure', 'taken', 'covertly', 'russophobes', 'washington', 'held', 'hope', 'visible', 'portion', 'program', 'scarcely', 'amounted', 'major', 'retribution', 'putin', 'saw', 'fit', 'diminish', 'obama', 'sanction', 'declining', 'respond', 'although', 'government', 'steadfastly', 'denied', 'interference', 'election', 'putin', 'rejected', 'foreign', 'minister', 'recommended', 'package', 'response', 'even', 'sent', 'invitation', 'diplomat', 'send', 'child', 'holiday', 'party', 'moscow', 'allowed', 'putin', 'appear', 'moment', 'bigger', 'man', 'even', 'spurned', 'obama', 'kept', 'looked', 'like', 'public', 'bromance', 'trump', 'tweeted', 'great', 'move', 'delay', 'putin', 'always', 'knew', 'smart', 'moment', 'may', 'seem', 'overall', 'russia', 'question', 'amount', 'first', 'crisis', 'facing', 'trump', 'presidency', 'whether', 'forced', 'campaign', 'interference', 'issue', 'trump', 'must', 'grasp', 'nettle', 'relationship', 'mitt', 'romney', 'called', 'greatest', 'threat', 'security', 'world', 'sure', 'trump', 'need', 'dispel', 'doubt', 'ability', 'stand', 'putin', 'bullied', 'cajoled', 'way', 'center', 'stage', 'recent', 'world', 'affair', 'trump', 'also', 'seems', 'determined', 'turn', 'page', 'past', 'commitment', 'free', 'trade', 'philosophy', 'funding', 'nato', 'united', 'nation', 'twitter', 'account', 'guide', 'trump', 'show', 'little', 'concern', 'conundrum', 'others', 'perceive', 'facing', 'trump', 'shown', 'determined', 'play', 'rule', 'year', 'ago', 'many', 'confident', 'would', 'work', 'world', 'presidential', 'politics', 'find', 'whether', 'work', 'oval', 'office']\n"
     ]
    }
   ],
   "source": [
    "preprocessed_documents = [preprocess_text(doc) for doc in documents] # Preprocess each document in the list\n",
    "print(preprocessed_documents[0])"
   ]
  },
  {
   "cell_type": "markdown",
   "id": "de70e3fe",
   "metadata": {},
   "source": [
    "## 4. create document-term matrix"
   ]
  },
  {
   "cell_type": "code",
   "execution_count": 24,
   "id": "572f6f92",
   "metadata": {},
   "outputs": [],
   "source": [
    "# Create a Gensim Dictionary object from the preprocessed documents\n",
    "dictionary = corpora.Dictionary(preprocessed_documents) \n",
    "\n",
    "# Filter out tokens that appear in less than 15 documents or more than 50% of the documents\n",
    "dictionary.filter_extremes(no_below=15, no_above=0.5)\n",
    "\n",
    "# Convert each preprocessed document into a bag-of-words representation using the dictionary\n",
    "corpus = [dictionary.doc2bow(doc) for doc in preprocessed_documents] "
   ]
  },
  {
   "cell_type": "markdown",
   "id": "140ae0a1",
   "metadata": {},
   "source": [
    "## 5. run LDA"
   ]
  },
  {
   "cell_type": "code",
   "execution_count": 25,
   "id": "69a4c864",
   "metadata": {},
   "outputs": [],
   "source": [
    "lda_model = LdaModel(corpus, num_topics=5, id2word=dictionary, passes=15) # Train an LDA model on the corpus with 2 topics using Gensim's LdaModel class"
   ]
  },
  {
   "cell_type": "markdown",
   "id": "7fd6b4fc",
   "metadata": {},
   "source": [
    "## 6. interpret results"
   ]
  },
  {
   "cell_type": "code",
   "execution_count": 26,
   "id": "09049eb9",
   "metadata": {},
   "outputs": [],
   "source": [
    "# empty list to store dominant topic labels for each document\n",
    "article_labels = []\n",
    "\n",
    "# iterate over each processed document\n",
    "for i, doc in enumerate(preprocessed_documents):\n",
    "    # for each document, convert to bag-of-words representation\n",
    "    bow = dictionary.doc2bow(doc)\n",
    "    # get list of topic probabilities\n",
    "    topics = lda_model.get_document_topics(bow)\n",
    "    # determine topic with highest probability\n",
    "    dominant_topic = max(topics, key=lambda x: x[1])[0]\n",
    "    # append to the list\n",
    "    article_labels.append(dominant_topic)\n"
   ]
  },
  {
   "cell_type": "code",
   "execution_count": 27,
   "id": "c120bf18",
   "metadata": {},
   "outputs": [],
   "source": [
    "# Create DataFrame\n",
    "df_result = pd.DataFrame({\"Article\": documents, \"Topic\": article_labels})"
   ]
  },
  {
   "cell_type": "code",
   "execution_count": 28,
   "id": "2ab6e3ac",
   "metadata": {},
   "outputs": [
    {
     "name": "stdout",
     "output_type": "stream",
     "text": [
      "Table with Articles and Topic:\n",
      "                                                 Article  Topic\n",
      "0      In the Washington of 2016, even when the polic...      3\n",
      "1        Donald Trump has used Twitter  —   his prefe...      3\n",
      "2        Donald Trump is unabashedly praising Russian...      3\n",
      "3      Updated at 2:50 p. m. ET, Russian President Vl...      4\n",
      "4      From photography, illustration and video, to d...      1\n",
      "...                                                  ...    ...\n",
      "11987  The number of law enforcement officers shot an...      4\n",
      "11988    Trump is busy these days with victory tours,...      3\n",
      "11989  It’s always interesting for the Goats and Soda...      0\n",
      "11990  The election of Donald Trump was a surprise to...      3\n",
      "11991  Voters in the English city of Sunderland did s...      3\n",
      "\n",
      "[11992 rows x 2 columns]\n",
      "\n"
     ]
    }
   ],
   "source": [
    "# Print the DataFrame\n",
    "print(\"Table with Articles and Topic:\")\n",
    "print(df_result)\n",
    "print()"
   ]
  },
  {
   "cell_type": "code",
   "execution_count": 29,
   "id": "c91869fc",
   "metadata": {},
   "outputs": [
    {
     "name": "stdout",
     "output_type": "stream",
     "text": [
      "Top terms for Topic #0:\n",
      "['study', 'food', 'health', 'water', 'patient', 'percent', 'disease', 'research', 'child', 'university']\n",
      "\n",
      "Top terms for Topic #1:\n",
      "['know', 'think', 'thing', 'life', 'really', 'woman', 'story', 'show', 'book', 'go']\n",
      "\n",
      "Top terms for Topic #2:\n",
      "['state', 'school', 'law', 'health', 'student', 'company', 'court', 'federal', 'care', 'program']\n",
      "\n",
      "Top terms for Topic #3:\n",
      "['trump', 'clinton', 'president', 'campaign', 'republican', 'state', 'election', 'obama', 'vote', 'voter']\n",
      "\n",
      "Top terms for Topic #4:\n",
      "['police', 'report', 'country', 'government', 'city', 'attack', 'told', 'official', 'two', 'officer']\n",
      "\n"
     ]
    }
   ],
   "source": [
    "# Print top terms for each topic\n",
    "for topic_id in range(lda_model.num_topics):\n",
    "    print(f\"Top terms for Topic #{topic_id}:\")\n",
    "    top_terms = lda_model.show_topic(topic_id, topn=10)\n",
    "    print([term[0] for term in top_terms])\n",
    "    print()"
   ]
  },
  {
   "cell_type": "code",
   "execution_count": 30,
   "id": "3f071361",
   "metadata": {},
   "outputs": [
    {
     "name": "stdout",
     "output_type": "stream",
     "text": [
      "Top Terms for Each Topic:\n",
      "Topic 0:\n",
      "- \"study\" (weight: 0.006)\n",
      "- \"food\" (weight: 0.005)\n",
      "- \"health\" (weight: 0.004)\n",
      "- \"water\" (weight: 0.004)\n",
      "- \"patient\" (weight: 0.004)\n",
      "- \"percent\" (weight: 0.004)\n",
      "- \"disease\" (weight: 0.003)\n",
      "- \"research\" (weight: 0.003)\n",
      "- \"child\" (weight: 0.003)\n",
      "- \"university\" (weight: 0.003)\n",
      "\n",
      "Topic 1:\n",
      "- \"know\" (weight: 0.005)\n",
      "- \"think\" (weight: 0.005)\n",
      "- \"thing\" (weight: 0.005)\n",
      "- \"life\" (weight: 0.005)\n",
      "- \"really\" (weight: 0.004)\n",
      "- \"woman\" (weight: 0.004)\n",
      "- \"story\" (weight: 0.004)\n",
      "- \"show\" (weight: 0.003)\n",
      "- \"book\" (weight: 0.003)\n",
      "- \"go\" (weight: 0.003)\n",
      "\n",
      "Topic 2:\n",
      "- \"state\" (weight: 0.010)\n",
      "- \"school\" (weight: 0.008)\n",
      "- \"law\" (weight: 0.008)\n",
      "- \"health\" (weight: 0.007)\n",
      "- \"student\" (weight: 0.006)\n",
      "- \"company\" (weight: 0.006)\n",
      "- \"court\" (weight: 0.006)\n",
      "- \"federal\" (weight: 0.006)\n",
      "- \"care\" (weight: 0.005)\n",
      "- \"program\" (weight: 0.005)\n",
      "\n",
      "Topic 3:\n",
      "- \"trump\" (weight: 0.033)\n",
      "- \"clinton\" (weight: 0.013)\n",
      "- \"president\" (weight: 0.011)\n",
      "- \"campaign\" (weight: 0.009)\n",
      "- \"republican\" (weight: 0.008)\n",
      "- \"state\" (weight: 0.008)\n",
      "- \"election\" (weight: 0.007)\n",
      "- \"obama\" (weight: 0.006)\n",
      "- \"vote\" (weight: 0.006)\n",
      "- \"voter\" (weight: 0.005)\n",
      "\n",
      "Topic 4:\n",
      "- \"police\" (weight: 0.007)\n",
      "- \"report\" (weight: 0.006)\n",
      "- \"country\" (weight: 0.005)\n",
      "- \"government\" (weight: 0.005)\n",
      "- \"city\" (weight: 0.004)\n",
      "- \"attack\" (weight: 0.004)\n",
      "- \"told\" (weight: 0.004)\n",
      "- \"official\" (weight: 0.004)\n",
      "- \"two\" (weight: 0.004)\n",
      "- \"officer\" (weight: 0.004)\n",
      "\n"
     ]
    }
   ],
   "source": [
    "# Print the top terms for each topic with weight\n",
    "print(\"Top Terms for Each Topic:\")\n",
    "for idx, topic in lda_model.print_topics():\n",
    "    print(f\"Topic {idx}:\")\n",
    "    terms = [term.strip() for term in topic.split(\"+\")]\n",
    "    for term in terms:\n",
    "        weight, word = term.split(\"*\")\n",
    "        print(f\"- {word.strip()} (weight: {weight.strip()})\")\n",
    "    print()"
   ]
  },
  {
   "cell_type": "code",
   "execution_count": null,
   "id": "e37122f7",
   "metadata": {},
   "outputs": [],
   "source": []
  }
 ],
 "metadata": {
  "kernelspec": {
   "display_name": "Python 3 (ipykernel)",
   "language": "python",
   "name": "python3"
  },
  "language_info": {
   "codemirror_mode": {
    "name": "ipython",
    "version": 3
   },
   "file_extension": ".py",
   "mimetype": "text/x-python",
   "name": "python",
   "nbconvert_exporter": "python",
   "pygments_lexer": "ipython3",
   "version": "3.11.5"
  }
 },
 "nbformat": 4,
 "nbformat_minor": 5
}
