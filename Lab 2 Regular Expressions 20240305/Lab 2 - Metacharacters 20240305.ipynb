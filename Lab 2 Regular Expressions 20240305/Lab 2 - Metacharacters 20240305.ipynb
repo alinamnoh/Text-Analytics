{
 "cells": [
  {
   "cell_type": "code",
   "execution_count": 1,
   "id": "6b581bad",
   "metadata": {},
   "outputs": [],
   "source": [
    "#importing regular expression library \n",
    "import re "
   ]
  },
  {
   "cell_type": "markdown",
   "id": "328bd51b",
   "metadata": {},
   "source": [
    "# Metacharacter .\n",
    "find any characters in a string (including spaces) except new line"
   ]
  },
  {
   "cell_type": "code",
   "execution_count": 2,
   "id": "7b1c06b9",
   "metadata": {},
   "outputs": [
    {
     "name": "stdout",
     "output_type": "stream",
     "text": [
      "['I', ' ', 'a', 'm', ' ', 'l', 'e', 'a', 'r', 'n', 'i', 'n', 'g', ' ', 't', 'e', 'x', 't', ' ', 'a', 'n', 'a', 'l', 'y', 't', 'i', 'c', 's']\n"
     ]
    }
   ],
   "source": [
    "sentence1 = re.findall (r'.', 'I am learning text analytics') \n",
    "print (sentence1) \n",
    " \n",
    "# Each letter is selected including spaces "
   ]
  },
  {
   "cell_type": "markdown",
   "id": "619275aa",
   "metadata": {},
   "source": [
    "# Metacharacter \\w\n",
    "find any characters in string except spaces and new line"
   ]
  },
  {
   "cell_type": "code",
   "execution_count": 3,
   "id": "cd85a51e",
   "metadata": {},
   "outputs": [
    {
     "name": "stdout",
     "output_type": "stream",
     "text": [
      "['I', 'a', 'm', 'l', 'e', 'a', 'r', 'n', 'i', 'n', 'g', 't', 'e', 'x', 't', 'a', 'n', 'a', 'l', 'y', 't', 'i', 'c', 's']\n"
     ]
    }
   ],
   "source": [
    "sentence2 = re.findall(r'\\w', 'I am learning text analytics')\n",
    "print(sentence2)\n",
    "\n",
    "# Each letter is selected excluding spaces "
   ]
  },
  {
   "cell_type": "markdown",
   "id": "10603761",
   "metadata": {},
   "source": [
    "# Metacharacter \\w*\n",
    "matches any characters with zero (0) or more characters in a string including spaces"
   ]
  },
  {
   "cell_type": "code",
   "execution_count": 4,
   "id": "e6ec4e5a",
   "metadata": {},
   "outputs": [
    {
     "name": "stdout",
     "output_type": "stream",
     "text": [
      "['I', '', 'am', '', 'learning', '', 'text', '', 'analytics', '']\n"
     ]
    }
   ],
   "source": [
    "sentence3 = re.findall(r'\\w*', 'I am learning text analytics')\n",
    "print(sentence3)\n",
    "\n",
    "# Each word is selected including spaces "
   ]
  },
  {
   "cell_type": "markdown",
   "id": "e2a713dc",
   "metadata": {},
   "source": [
    "# Metacharacter \\w+\n",
    "matches one (1) or more characters in a string excluding spaces"
   ]
  },
  {
   "cell_type": "code",
   "execution_count": 5,
   "id": "aa4e2dc3",
   "metadata": {},
   "outputs": [
    {
     "name": "stdout",
     "output_type": "stream",
     "text": [
      "['I', 'am', 'learning', 'text', 'analytics']\n"
     ]
    }
   ],
   "source": [
    "sentence4 = re.findall(r'\\w+', 'I am learning text analytics')\n",
    "print(sentence4)\n",
    "\n",
    "# Each word is selected excluding spaces "
   ]
  },
  {
   "cell_type": "markdown",
   "id": "77ce5ade",
   "metadata": {},
   "source": [
    "# Metacharacter ^\\w+\n",
    "find the first word in string"
   ]
  },
  {
   "cell_type": "code",
   "execution_count": 6,
   "id": "6de0de5d",
   "metadata": {},
   "outputs": [
    {
     "name": "stdout",
     "output_type": "stream",
     "text": [
      "['I']\n"
     ]
    }
   ],
   "source": [
    "sentence5 = re.findall(r'^\\w+', 'I am learning text analytics')\n",
    "print(sentence5)"
   ]
  },
  {
   "cell_type": "markdown",
   "id": "301538b7",
   "metadata": {},
   "source": [
    "# Metacharacter \\w+$\n",
    "find the last word in string"
   ]
  },
  {
   "cell_type": "code",
   "execution_count": 7,
   "id": "d8bcf9db",
   "metadata": {},
   "outputs": [
    {
     "name": "stdout",
     "output_type": "stream",
     "text": [
      "['analytics']\n"
     ]
    }
   ],
   "source": [
    "sentence6 = re.findall (r'\\w+$', 'I am learning text analytics')\n",
    "print(sentence6)"
   ]
  },
  {
   "cell_type": "markdown",
   "id": "df22697d",
   "metadata": {},
   "source": [
    "# Metacharacter \\w\\w\n",
    "find two consecutive characters"
   ]
  },
  {
   "cell_type": "code",
   "execution_count": 8,
   "id": "47ec8b2f",
   "metadata": {},
   "outputs": [
    {
     "name": "stdout",
     "output_type": "stream",
     "text": [
      "['am', 'le', 'ar', 'ni', 'ng', 'te', 'xt', 'an', 'al', 'yt', 'ic']\n"
     ]
    }
   ],
   "source": [
    "sentence7 = re.findall (r'\\w\\w', 'I am learning text analytics')\n",
    "print(sentence7)"
   ]
  },
  {
   "cell_type": "markdown",
   "id": "ae7758fc",
   "metadata": {},
   "source": [
    "# Metacharacter \\b\\w\\w\n",
    "find two consecutive characters in a string"
   ]
  },
  {
   "cell_type": "code",
   "execution_count": 9,
   "id": "3ea64fdf",
   "metadata": {},
   "outputs": [
    {
     "name": "stdout",
     "output_type": "stream",
     "text": [
      "['am', 'le', 'te', 'an']\n"
     ]
    }
   ],
   "source": [
    "sentence8 = re.findall (r'\\b\\w\\w', 'I am learning text analytics')\n",
    "print(sentence8)"
   ]
  },
  {
   "cell_type": "markdown",
   "id": "4f632643",
   "metadata": {},
   "source": [
    "# Extracting the domain type of email address"
   ]
  },
  {
   "cell_type": "code",
   "execution_count": 10,
   "id": "a25c7880",
   "metadata": {},
   "outputs": [
    {
     "name": "stdout",
     "output_type": "stream",
     "text": [
      "['@text', '@analytics', '@textanalytics']\n"
     ]
    }
   ],
   "source": [
    "sentence9 = re.findall (r'@\\w+', 'user@text.com.my, user@analytics.gov.my, user@textanalytics.edu.my')\n",
    "print (sentence9) \n",
    " \n",
    "# Only the first word in the domain name is selected "
   ]
  },
  {
   "cell_type": "code",
   "execution_count": 11,
   "id": "2374e526",
   "metadata": {},
   "outputs": [
    {
     "name": "stdout",
     "output_type": "stream",
     "text": [
      "['@text.com', '@analytics.gov', '@textanalytics.edu']\n"
     ]
    }
   ],
   "source": [
    "sentence10 = re.findall (r'@\\w+.\\w+','user@text.com.my, user@analytics.gov.my, user@textanalytics.edu.my')\n",
    "print (sentence10)"
   ]
  },
  {
   "cell_type": "code",
   "execution_count": 12,
   "id": "eb93a99f",
   "metadata": {},
   "outputs": [
    {
     "name": "stdout",
     "output_type": "stream",
     "text": [
      "['@text.com.my', '@analytics.gov.my', '@textanalytics.edu.my']\n"
     ]
    }
   ],
   "source": [
    "sentence11 = re.findall (r'@\\w+.\\w+.\\w+', 'user@text.com.my, user@analytics.gov.my, user@textanalytics.edu.my')\n",
    "print (sentence11) \n",
    " \n",
    "# The full domain name is selected "
   ]
  },
  {
   "cell_type": "code",
   "execution_count": 13,
   "id": "ccfab782",
   "metadata": {},
   "outputs": [
    {
     "name": "stdout",
     "output_type": "stream",
     "text": [
      "['com.my', 'gov.my', 'edu.my']\n"
     ]
    }
   ],
   "source": [
    "# Solution  \n",
    " \n",
    "sentence12 = re.findall (r'@\\w+.(\\w+.\\w+)', 'user@text.com.my, user@analytics.gov.my, user@textanalytics.edu.my')\n",
    "print(sentence12)\n",
    "\n",
    "# To display the type of domain "
   ]
  },
  {
   "cell_type": "markdown",
   "id": "d31b0823",
   "metadata": {},
   "source": [
    "# Extracting date"
   ]
  },
  {
   "cell_type": "code",
   "execution_count": 14,
   "id": "64a9d5ea",
   "metadata": {},
   "outputs": [
    {
     "name": "stdout",
     "output_type": "stream",
     "text": [
      "['15-05-20', '20-08-20']\n"
     ]
    }
   ],
   "source": [
    "sentence13 = re.findall (r'\\d{2}-\\d{2}-\\d{2}', 'Ahmad BIT(IS) 15-05-2001, Johnny BCS(SE) 20-08-2000')\n",
    "print (sentence13) \n",
    " \n",
    "# To display the date in the format of dd-mm-yy "
   ]
  },
  {
   "cell_type": "code",
   "execution_count": 15,
   "id": "19379241",
   "metadata": {},
   "outputs": [
    {
     "name": "stdout",
     "output_type": "stream",
     "text": [
      "['15-05-2001', '20-08-2000']\n"
     ]
    }
   ],
   "source": [
    "sentence14 = re.findall (r'\\d{2}-\\d{2}-\\d{4}', 'Ahmad BIT(IS) 15-05-2001, Johnny BCS(SE) 20-08-2000')\n",
    "print (sentence14) \n",
    " \n",
    "# To display the date in the format of dd-mm-yyyy"
   ]
  },
  {
   "cell_type": "code",
   "execution_count": 16,
   "id": "da97f9ac",
   "metadata": {},
   "outputs": [
    {
     "name": "stdout",
     "output_type": "stream",
     "text": [
      "['2001', '2000']\n"
     ]
    }
   ],
   "source": [
    "sentence15 = re.findall (r'\\d{2}-\\d{2}-(\\d{4})', 'Ahmad BIT(IS) 15-05-2001, Johnny BCS(SE) 20-08-2000')\n",
    "print (sentence15) \n",
    "\n",
    "#to display the year only"
   ]
  },
  {
   "cell_type": "markdown",
   "id": "bafa911c",
   "metadata": {},
   "source": [
    "# Selecting words that start with vowels in a string"
   ]
  },
  {
   "cell_type": "code",
   "execution_count": 17,
   "id": "b79df1d5",
   "metadata": {},
   "outputs": [
    {
     "name": "stdout",
     "output_type": "stream",
     "text": [
      "['ave', 'eight', 'ory', 'ooks', 'often', 'ead', 'em', 'in', 'afternoon']\n"
     ]
    }
   ],
   "source": [
    "sentence16 = re.findall (r'[aeiouAEIOU]\\w+', 'I have eight story books. I often read them in afternoon')\n",
    "print (sentence16)\n",
    " \n",
    "# A sequence that starts with a vowel followed by one or more characters are selected"
   ]
  },
  {
   "cell_type": "code",
   "execution_count": 18,
   "id": "5b9ddced",
   "metadata": {},
   "outputs": [
    {
     "name": "stdout",
     "output_type": "stream",
     "text": [
      "['eight', 'often', 'in', 'afternoon']\n"
     ]
    }
   ],
   "source": [
    "sentence17 = re.findall (r'\\b[aeiouAEIOU]\\w+', 'I have eight story books. I often read them in afternoon')\n",
    "print (sentence17) \n",
    "\n",
    "# Only words that start with vowels are selected "
   ]
  },
  {
   "cell_type": "code",
   "execution_count": 19,
   "id": "f9477b79",
   "metadata": {},
   "outputs": [
    {
     "name": "stdout",
     "output_type": "stream",
     "text": [
      "['have', 'story', 'books', 'read', 'them']\n"
     ]
    }
   ],
   "source": [
    "sentence18 = re.findall (r'\\b[^aeiouAEIOU\\s]\\w+', 'I have eight story books. I often read them in afternoon')\n",
    "print (sentence18) \n",
    "\n",
    "# Only words that start with non-vowels are selected "
   ]
  },
  {
   "cell_type": "markdown",
   "id": "bb2b723c",
   "metadata": {},
   "source": [
    "# Splitting a string with multiple delimiters"
   ]
  },
  {
   "cell_type": "code",
   "execution_count": 20,
   "id": "58028fe4",
   "metadata": {},
   "outputs": [
    {
     "name": "stdout",
     "output_type": "stream",
     "text": [
      "['I have many story books', ' colouring books', ' I often read them in the afternoon.']\n"
     ]
    }
   ],
   "source": [
    "sentence19 = re.split (r'[;,]', 'I have many story books, colouring books; I often read them in the afternoon.')\n",
    "print (sentence19) \n",
    " \n",
    "# split the words based on the delimiters semi colon and comma "
   ]
  },
  {
   "cell_type": "code",
   "execution_count": 21,
   "id": "de6ca8ee",
   "metadata": {},
   "outputs": [
    {
     "name": "stdout",
     "output_type": "stream",
     "text": [
      "['I', 'have', 'many', 'story', 'books', '', 'colouring', 'books', '', 'I', 'often', 'read', 'them', 'in', 'the', 'afternoon.']\n"
     ]
    }
   ],
   "source": [
    "sentence20 = re.split (r'[;,\\s]', 'I have many story books, colouring books; I often read them in the afternoon.')\n",
    "print (sentence20) \n",
    " \n",
    "# split the words based on the delimiters semi colon and comma "
   ]
  },
  {
   "cell_type": "markdown",
   "id": "334f6c4c",
   "metadata": {},
   "source": [
    "# Substituting delimiters"
   ]
  },
  {
   "cell_type": "code",
   "execution_count": 22,
   "id": "823b46da",
   "metadata": {},
   "outputs": [
    {
     "name": "stdout",
     "output_type": "stream",
     "text": [
      "I have many story books. colouring books. I often read them in the afternoon.\n"
     ]
    }
   ],
   "source": [
    "sentence21 = re.sub (r'[;,]', '.', 'I have many story books, colouring books; I often read them in the afternoon.')\n",
    "print (sentence21) \n",
    " \n",
    "# Substitute the delimiters semi colon and comma with fullstop "
   ]
  },
  {
   "cell_type": "code",
   "execution_count": null,
   "id": "a61b4760",
   "metadata": {},
   "outputs": [],
   "source": []
  }
 ],
 "metadata": {
  "kernelspec": {
   "display_name": "Python 3 (ipykernel)",
   "language": "python",
   "name": "python3"
  },
  "language_info": {
   "codemirror_mode": {
    "name": "ipython",
    "version": 3
   },
   "file_extension": ".py",
   "mimetype": "text/x-python",
   "name": "python",
   "nbconvert_exporter": "python",
   "pygments_lexer": "ipython3",
   "version": "3.11.5"
  }
 },
 "nbformat": 4,
 "nbformat_minor": 5
}
