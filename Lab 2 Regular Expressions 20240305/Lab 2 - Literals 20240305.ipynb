{
 "cells": [
  {
   "cell_type": "code",
   "execution_count": 1,
   "id": "7068f6a6",
   "metadata": {},
   "outputs": [],
   "source": [
    "#importing regular expression library \n",
    "import re "
   ]
  },
  {
   "cell_type": "markdown",
   "id": "589c01e6",
   "metadata": {},
   "source": [
    "# re.match()\n",
    "to check for a match at the beginning of a string"
   ]
  },
  {
   "cell_type": "code",
   "execution_count": 2,
   "id": "29fe24ae",
   "metadata": {},
   "outputs": [
    {
     "name": "stdout",
     "output_type": "stream",
     "text": [
      "<re.Match object; span=(0, 1), match='I'>\n"
     ]
    }
   ],
   "source": [
    "sentence1 = re.match (r'I', 'I am learning text analytics') \n",
    "print (sentence1) "
   ]
  },
  {
   "cell_type": "code",
   "execution_count": 3,
   "id": "50bec450",
   "metadata": {},
   "outputs": [
    {
     "name": "stdout",
     "output_type": "stream",
     "text": [
      "None\n"
     ]
    }
   ],
   "source": [
    "sentence1 = re.match (r'v', 'I am learning text analytics') \n",
    "print (sentence1) "
   ]
  },
  {
   "cell_type": "code",
   "execution_count": 4,
   "id": "650c0c20",
   "metadata": {},
   "outputs": [
    {
     "name": "stdout",
     "output_type": "stream",
     "text": [
      "None\n"
     ]
    }
   ],
   "source": [
    "sentence1 = re.match (r'am', 'I am learning text analytics') \n",
    "print (sentence1) "
   ]
  },
  {
   "cell_type": "markdown",
   "id": "e0a4da6b",
   "metadata": {},
   "source": [
    "The output shows a match in [2] because the letter 'I' exists at the beginning of the string"
   ]
  },
  {
   "cell_type": "markdown",
   "id": "18eb194a",
   "metadata": {},
   "source": [
    "# re.search()\n",
    "re.search( ) checks for a match anywhere in the string"
   ]
  },
  {
   "cell_type": "code",
   "execution_count": 5,
   "id": "726917a9",
   "metadata": {},
   "outputs": [
    {
     "name": "stdout",
     "output_type": "stream",
     "text": [
      "<re.Match object; span=(2, 4), match='am'>\n"
     ]
    }
   ],
   "source": [
    "sentence4 = re.search(r'am', 'I am learning text analytics')  \n",
    "print (sentence4)  "
   ]
  },
  {
   "cell_type": "code",
   "execution_count": 6,
   "id": "ad22e488",
   "metadata": {},
   "outputs": [
    {
     "name": "stdout",
     "output_type": "stream",
     "text": [
      "<re.Match object; span=(2, 4), match='am'>\n"
     ]
    }
   ],
   "source": [
    "sentence4 = re.search(r'am', 'I am learning text analytics and am enjoying it')  \n",
    "print (sentence4)  "
   ]
  },
  {
   "cell_type": "markdown",
   "id": "a71d5820",
   "metadata": {},
   "source": [
    "The output is similar with previous example even though there are two 'am' in the string. However, re.search( ) only returns the first occurrence of ‘am’ in the string"
   ]
  },
  {
   "cell_type": "markdown",
   "id": "3329c84a",
   "metadata": {},
   "source": [
    "# re.findall()\n",
    "to find all of the occurrences of a pattern in a string"
   ]
  },
  {
   "cell_type": "code",
   "execution_count": 7,
   "id": "4f372da9",
   "metadata": {},
   "outputs": [
    {
     "name": "stdout",
     "output_type": "stream",
     "text": [
      "['am', 'am']\n"
     ]
    }
   ],
   "source": [
    "sentence6 = re.findall(r'am', 'I am learning text analytics and am enjoying it')  \n",
    "print (sentence6)  "
   ]
  },
  {
   "cell_type": "markdown",
   "id": "0f82765e",
   "metadata": {},
   "source": [
    "# re.split()\n",
    "to split a string by the occurrence of a given pattern"
   ]
  },
  {
   "cell_type": "code",
   "execution_count": 8,
   "id": "ab56e562",
   "metadata": {},
   "outputs": [
    {
     "name": "stdout",
     "output_type": "stream",
     "text": [
      "['I am learning text analytics ', ' am enjoying it']\n"
     ]
    }
   ],
   "source": [
    "#split into 2 sentences by an 'and'\n",
    "sentence7 = re.split(r'and', 'I am learning text analytics and am enjoying it')  \n",
    "print (sentence7)  "
   ]
  },
  {
   "cell_type": "code",
   "execution_count": 9,
   "id": "01b8ddb7",
   "metadata": {},
   "outputs": [
    {
     "name": "stdout",
     "output_type": "stream",
     "text": [
      "['I ', ' learning text analytics and ', ' enjoying it']\n"
     ]
    }
   ],
   "source": [
    "#split into 3 sentences by an 'am'\n",
    "sentence8 = re.split(r'am', 'I am learning text analytics and am enjoying it')  \n",
    "print (sentence8)  "
   ]
  },
  {
   "cell_type": "code",
   "execution_count": 10,
   "id": "ba5f78da",
   "metadata": {},
   "outputs": [
    {
     "name": "stdout",
     "output_type": "stream",
     "text": [
      "['I ', ' learning text analytics and am enjoying it']\n"
     ]
    }
   ],
   "source": [
    "#split into 2 sentences by the first occurrence of an 'am' \n",
    "sentence9 = re.split(r'am', 'I am learning text analytics and am enjoying it', maxsplit=1) \n",
    "print (sentence9)  "
   ]
  },
  {
   "cell_type": "code",
   "execution_count": 11,
   "id": "68c59c4f",
   "metadata": {},
   "outputs": [
    {
     "name": "stdout",
     "output_type": "stream",
     "text": [
      "['I ', ' learning text analytics and ', ' enjoying it']\n"
     ]
    }
   ],
   "source": [
    "#split into 3 sentences by the first TWO occurrence of an 'am' \n",
    "sentence9 = re.split(r'am', 'I am learning text analytics and am enjoying it', maxsplit=2) \n",
    "print (sentence9)  "
   ]
  },
  {
   "cell_type": "code",
   "execution_count": 12,
   "id": "e4848b8c",
   "metadata": {},
   "outputs": [
    {
     "name": "stdout",
     "output_type": "stream",
     "text": [
      "['I ', ' learning text analytics and ', ' enjoying it and I ', ' going to ace it and am loving it']\n"
     ]
    }
   ],
   "source": [
    "#split into 4 sentences by the first THREE occurrence of an 'am'\n",
    "sentence10 = re.split(r'am', 'I am learning text analytics and am enjoying it and I am going to ace it and am loving it', maxsplit=3)\n",
    "print(sentence10)"
   ]
  },
  {
   "cell_type": "markdown",
   "id": "c7070441",
   "metadata": {},
   "source": [
    "# re.sub()\n",
    "to find the occurrence of a given pattern in a string and replace with a new value"
   ]
  },
  {
   "cell_type": "code",
   "execution_count": 13,
   "id": "b0a5f22e",
   "metadata": {},
   "outputs": [
    {
     "name": "stdout",
     "output_type": "stream",
     "text": [
      "we am learning text analytics and we enjoy learning it\n"
     ]
    }
   ],
   "source": [
    "#substitute every 'I' into 'we'\n",
    "sentence11 = re.sub(r'I', 'we', 'I am learning text analytics and I enjoy learning it')\n",
    "print(sentence11)"
   ]
  }
 ],
 "metadata": {
  "kernelspec": {
   "display_name": "Python 3 (ipykernel)",
   "language": "python",
   "name": "python3"
  },
  "language_info": {
   "codemirror_mode": {
    "name": "ipython",
    "version": 3
   },
   "file_extension": ".py",
   "mimetype": "text/x-python",
   "name": "python",
   "nbconvert_exporter": "python",
   "pygments_lexer": "ipython3",
   "version": "3.11.5"
  }
 },
 "nbformat": 4,
 "nbformat_minor": 5
}
